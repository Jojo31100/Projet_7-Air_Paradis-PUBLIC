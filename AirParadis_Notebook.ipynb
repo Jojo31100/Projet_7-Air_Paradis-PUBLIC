{
  "nbformat": 4,
  "nbformat_minor": 0,
  "metadata": {
    "colab": {
      "provenance": [],
      "toc_visible": true,
      "authorship_tag": "ABX9TyPqlEnorh1SZlP2IQKvRHT3",
      "include_colab_link": true
    },
    "kernelspec": {
      "name": "python3",
      "display_name": "Python 3"
    },
    "language_info": {
      "name": "python"
    }
  },
  "cells": [
    {
      "cell_type": "markdown",
      "metadata": {
        "id": "view-in-github",
        "colab_type": "text"
      },
      "source": [
        "<a href=\"https://colab.research.google.com/github/Jojo31100/Projet_7-Air_Paradis-PUBLIC/blob/main/AirParadis_Notebook.ipynb\" target=\"_parent\"><img src=\"https://colab.research.google.com/assets/colab-badge.svg\" alt=\"Open In Colab\"/></a>"
      ]
    },
    {
      "cell_type": "markdown",
      "source": [
        "# **Projet n°7 - Air Paradis : Réalisez une analyse de sentiments grâce au Deep Learning**"
      ],
      "metadata": {
        "id": "nc9Bkoe9ME9o"
      }
    },
    {
      "cell_type": "markdown",
      "source": [
        "[Lien vers le projet et les attendus](https://openclassrooms.com/fr/paths/795/projects/1516/)\n",
        "\n",
        "**Comment allez-vous procéder ?**\n",
        "\n",
        "Cette mission suit un scénario de projet professionnel.\n",
        "\n",
        "Vous pouvez suivre les étapes pour vous aider à réaliser vos livrables.\n",
        "\n",
        "Avant de démarrer, nous vous conseillons de :\n",
        "\n",
        "- lire toute la mission et ses documents liés ;\n",
        "- prendre des notes sur ce que vous avez compris ;\n",
        "- consulter les étapes pour vous guider ;\n",
        "- préparer une liste de questions pour votre première session de mentorat.\n",
        "\n",
        "---\n",
        "\n",
        "**Prêt à mener la mission ?**\n",
        "\n",
        "Vous êtes ingénieur IA chez MIC (Marketing Intelligence Consulting), une entreprise de conseil spécialisée sur les problématiques de marketing digital.\n",
        "\n",
        "Dans deux semaines, vous avez rendez-vous avec Mme Aline, directrice marketing de la compagnie aérienne “Air Paradis”.\n",
        "\n",
        "Air Paradis a missionné votre cabinet pour créer un produit IA permettant d'anticiper les bad buzz sur les réseaux sociaux.\n",
        "\n",
        "Il est vrai que “Air Paradis” n'a pas toujours bonne presse sur les réseaux...\n",
        "\n",
        "En sortant d'un rendez-vous de cadrage avec les équipes de Air Paradis, vous avez noté les éléments suivants :\n",
        "\n",
        "- Air Paradis veut un prototype d'un produit IA permettant de prédire le sentiment associé à un tweet.\n",
        "\n",
        "- Données : pas de données clients chez Air Paradis. Solution : utiliser des [données Open Source](https://www.kaggle.com/kazanova/sentiment140) - ou en téléchargement direct à [ce lien](https://s3-eu-west-1.amazonaws.com/static.oc-static.com/prod/courses/files/AI+Engineer/Project+7%C2%A0-+D%C3%A9tectez+les+Bad+Buzz+gr%C3%A2ce+au+Deep+Learning/sentiment140.zip)\n",
        " - Description des données : des informations sur les tweets (utilisateur ayant posté, contenu, moment du post) et un label binaire (tweet exprimant un sentiment négatif ou non).\n",
        "\n",
        "- TO-DO :\n",
        " - Préparer un prototype fonctionnel du modèle. Le modèle est exposé via une API déployée sur le Cloud, appelée par une interface locale(notebook ou application Streamlit) qui envoie un tweet à l'API et récupère la prédiction de sentiment.\n",
        " - Préparer un support de présentation explicitant les méthodologies utilisées pour les différentes approches (attention : audience non technique).\n",
        "\n",
        "---\n",
        "\n",
        "Après avoir reçu votre compte-rendu, Marc, votre manager, vous a contacté pour, selon ses mots, “faire d'une pierre deux coups”.\n",
        "\n",
        "**De :** *Marc*\n",
        "\n",
        "**Envoyé :** *hier 17:14*\n",
        "\n",
        "**À :** *vous*\n",
        "\n",
        "**Objet :** *Air Paradis : complément*\n",
        "\n",
        "Salut\n",
        "\n",
        "Merci pour ton récap du meeting avec Air Paradis. J'ai l'impression que ça s'est bien passé !\n",
        "\n",
        "Je me disais... Puisque tu vas faire un proto pour ce client, j'ai l'intuition que ce produit pourrait se généraliser à d'autres cas d'usage.\n",
        "\n",
        "Tu voudrais bien en profiter pour tester plusieurs approches ?\n",
        "\n",
        "- approche “Modèle sur mesure simple”, pour développer rapidement un modèle classique (ex : régression logistique) permettant de prédire le sentiment associé à un tweet.\n",
        "- approche “Modèle sur mesure avancé” pour développer un modèle basé sur des réseaux de neurones profonds pour prédire le sentiment associé à un tweet. => C'est ce modèle que tu devras déployer et montrer à Air Paradis.\n",
        "\n",
        "Pour cette 2ème approche, tu penseras bien à essayer au moins deux word embeddings différents et à garder celui qui permet d'obtenir les meilleures performances. En complément, pourrais-tu également regarder l'apport en performance d'un modèle BERT ? Cela nous permettra de voir si nous devons investir dans ce type de modèle.\n",
        "\n",
        "Et en même ce serait top si tu pouvais mettre en oeuvre un bon exemple de démarche orientée MLOps, tu sais c'est la nouvelle priorité de notre directeur !\n",
        "\n",
        "J'aimerais que tu puisses démontrer à l'occasion de l'élaboration de ton prototype tout l'apport du MLOps, afin d'assurer une diffusion aux autres équipes :\n",
        "\n",
        "- d'abord réaliser une présentation synthétique des principes du MLOps et ses apports,\n",
        "- ensuite utiliser l'outil MLFlow, future référence pour notre société, pour assurer la gestion des expérimentations des modèles : tracking et reporting de l'entraînement des modèles, centralisation du stockage des modèles, et test du serving proposé par MLFlow,\n",
        "- mettre en oeuvre un pipeline de déploiement continu du modèle que tu auras choisi via une API (Git + Github + plateforme Cloud au choix), qui intègre également des tests unitaires automatisés,\n",
        "- et enfin initier un suivi de la performance du modèle en production. Pour cela tu utiliseras un service Azure Application Insight que tu auras créé pour l‘occasion :\n",
        " - Pour remonter des traces des tweets qui seraient considérés par l'utilisateur comme mal prédits : le texte du tweet et la prédiction.\n",
        " - Pour déclencher une alerte (envoi SMS ou mail) dans le cas d'un nombre trop important de tweet mal prédits (par exemple 3 tweets mal prédits en l'espace de 5 minutes).\n",
        " - Présenter une démarche qui pourrait être mise en oeuvre pour l'analyse de ces statistiques et l'amélioration du modèle dans le temps.\n",
        "\n",
        "Nous souhaitons limiter les coûts de mise en production de ce prototype, donc peux-tu privilégier une solution gratuite Cloud pour le déploiement de l'API de prédiction, par exemple Azure webapp (ASP F1 gratuit), PythonAnywhere, Heroku avec le package “student” de Github ou tout autre solution ?\n",
        "\n",
        "Si le modèle avancé est trop lourd et induit un dépassement des limites de taille des solutions gratuites, tu pourras tester le déploiement avec le modèle classique, ou bien utiliser des techniques de réduction de taille de ton modèle TensorFlow-Keras via une conversion en TensorFlow Lite.\n",
        "\n",
        "Merci d'avance !\n",
        "\n",
        "*Marc*\n",
        "\n",
        "PS : Ah au fait, tant que tu y es, tu pourras rédiger un petit article pour le blog à partir de ton travail de modélisation et de ta démarche orientée MLOps ?\n",
        "\n",
        "---\n",
        "\n",
        "Vous avez pris connaissance du mail, vous avez hâte de démarrer ce nouveau projet avec intérêt ! C'est parti !"
      ],
      "metadata": {
        "id": "K6FG_X1nMQwe"
      }
    }
  ]
}