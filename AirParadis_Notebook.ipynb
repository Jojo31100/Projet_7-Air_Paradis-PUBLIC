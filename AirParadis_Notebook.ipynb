{
  "nbformat": 4,
  "nbformat_minor": 0,
  "metadata": {
    "colab": {
      "provenance": [],
      "toc_visible": true,
      "collapsed_sections": [
        "CELnOdImDcwC"
      ],
      "authorship_tag": "ABX9TyMkcP+Ai5u3lhverawB7emn",
      "include_colab_link": true
    },
    "kernelspec": {
      "name": "python3",
      "display_name": "Python 3"
    },
    "language_info": {
      "name": "python"
    }
  },
  "cells": [
    {
      "cell_type": "markdown",
      "metadata": {
        "id": "view-in-github",
        "colab_type": "text"
      },
      "source": [
        "<a href=\"https://colab.research.google.com/github/Jojo31100/Projet_7-Air_Paradis-PUBLIC/blob/main/AirParadis_Notebook.ipynb\" target=\"_parent\"><img src=\"https://colab.research.google.com/assets/colab-badge.svg\" alt=\"Open In Colab\"/></a>"
      ]
    },
    {
      "cell_type": "markdown",
      "source": [
        "# **Projet n°7 - Air Paradis : Réalisez une analyse de sentiments grâce au Deep Learning**"
      ],
      "metadata": {
        "id": "nc9Bkoe9ME9o"
      }
    },
    {
      "cell_type": "markdown",
      "source": [
        "[Lien vers le projet et les attendus](https://openclassrooms.com/fr/paths/795/projects/1516/)\n",
        "\n",
        "**Comment allez-vous procéder ?**\n",
        "\n",
        "Cette mission suit un scénario de projet professionnel.\n",
        "\n",
        "Vous pouvez suivre les étapes pour vous aider à réaliser vos livrables.\n",
        "\n",
        "Avant de démarrer, nous vous conseillons de :\n",
        "\n",
        "- lire toute la mission et ses documents liés ;\n",
        "- prendre des notes sur ce que vous avez compris ;\n",
        "- consulter les étapes pour vous guider ;\n",
        "- préparer une liste de questions pour votre première session de mentorat.\n",
        "\n",
        "---\n",
        "\n",
        "**Prêt à mener la mission ?**\n",
        "\n",
        "Vous êtes ingénieur IA chez MIC (Marketing Intelligence Consulting), une entreprise de conseil spécialisée sur les problématiques de marketing digital.\n",
        "\n",
        "Dans deux semaines, vous avez rendez-vous avec Mme Aline, directrice marketing de la compagnie aérienne “Air Paradis”.\n",
        "\n",
        "Air Paradis a missionné votre cabinet pour créer un produit IA permettant d'anticiper les bad buzz sur les réseaux sociaux.\n",
        "\n",
        "Il est vrai que “Air Paradis” n'a pas toujours bonne presse sur les réseaux...\n",
        "\n",
        "En sortant d'un rendez-vous de cadrage avec les équipes de Air Paradis, vous avez noté les éléments suivants :\n",
        "\n",
        "- Air Paradis veut un prototype d'un produit IA permettant de prédire le sentiment associé à un tweet.\n",
        "\n",
        "- Données : pas de données clients chez Air Paradis. Solution : utiliser des [données Open Source](https://www.kaggle.com/kazanova/sentiment140) - ou en téléchargement direct à [ce lien](https://s3-eu-west-1.amazonaws.com/static.oc-static.com/prod/courses/files/AI+Engineer/Project+7%C2%A0-+D%C3%A9tectez+les+Bad+Buzz+gr%C3%A2ce+au+Deep+Learning/sentiment140.zip)\n",
        " - Description des données : des informations sur les tweets (utilisateur ayant posté, contenu, moment du post) et un label binaire (tweet exprimant un sentiment négatif ou non).\n",
        "\n",
        "- TO-DO :\n",
        " - Préparer un prototype fonctionnel du modèle. Le modèle est exposé via une API déployée sur le Cloud, appelée par une interface locale(notebook ou application Streamlit) qui envoie un tweet à l'API et récupère la prédiction de sentiment.\n",
        " - Préparer un support de présentation explicitant les méthodologies utilisées pour les différentes approches (attention : audience non technique).\n",
        "\n",
        "---\n",
        "\n",
        "Après avoir reçu votre compte-rendu, Marc, votre manager, vous a contacté pour, selon ses mots, “faire d'une pierre deux coups”.\n",
        "\n",
        "**De :** *Marc*\n",
        "\n",
        "**Envoyé :** *hier 17:14*\n",
        "\n",
        "**À :** *vous*\n",
        "\n",
        "**Objet :** *Air Paradis : complément*\n",
        "\n",
        "Salut\n",
        "\n",
        "Merci pour ton récap du meeting avec Air Paradis. J'ai l'impression que ça s'est bien passé !\n",
        "\n",
        "Je me disais... Puisque tu vas faire un proto pour ce client, j'ai l'intuition que ce produit pourrait se généraliser à d'autres cas d'usage.\n",
        "\n",
        "Tu voudrais bien en profiter pour tester plusieurs approches ?\n",
        "\n",
        "- approche “Modèle sur mesure simple”, pour développer rapidement un modèle classique (ex : régression logistique) permettant de prédire le sentiment associé à un tweet.\n",
        "- approche “Modèle sur mesure avancé” pour développer un modèle basé sur des réseaux de neurones profonds pour prédire le sentiment associé à un tweet. => C'est ce modèle que tu devras déployer et montrer à Air Paradis.\n",
        "\n",
        "Pour cette 2ème approche, tu penseras bien à essayer au moins deux word embeddings différents et à garder celui qui permet d'obtenir les meilleures performances. En complément, pourrais-tu également regarder l'apport en performance d'un modèle BERT ? Cela nous permettra de voir si nous devons investir dans ce type de modèle.\n",
        "\n",
        "Et en même ce serait top si tu pouvais mettre en oeuvre un bon exemple de démarche orientée MLOps, tu sais c'est la nouvelle priorité de notre directeur !\n",
        "\n",
        "J'aimerais que tu puisses démontrer à l'occasion de l'élaboration de ton prototype tout l'apport du MLOps, afin d'assurer une diffusion aux autres équipes :\n",
        "\n",
        "- d'abord réaliser une présentation synthétique des principes du MLOps et ses apports,\n",
        "- ensuite utiliser l'outil MLFlow, future référence pour notre société, pour assurer la gestion des expérimentations des modèles : tracking et reporting de l'entraînement des modèles, centralisation du stockage des modèles, et test du serving proposé par MLFlow,\n",
        "- mettre en oeuvre un pipeline de déploiement continu du modèle que tu auras choisi via une API (Git + Github + plateforme Cloud au choix), qui intègre également des tests unitaires automatisés,\n",
        "- et enfin initier un suivi de la performance du modèle en production. Pour cela tu utiliseras un service Azure Application Insight que tu auras créé pour l‘occasion :\n",
        " - Pour remonter des traces des tweets qui seraient considérés par l'utilisateur comme mal prédits : le texte du tweet et la prédiction.\n",
        " - Pour déclencher une alerte (envoi SMS ou mail) dans le cas d'un nombre trop important de tweet mal prédits (par exemple 3 tweets mal prédits en l'espace de 5 minutes).\n",
        " - Présenter une démarche qui pourrait être mise en oeuvre pour l'analyse de ces statistiques et l'amélioration du modèle dans le temps.\n",
        "\n",
        "Nous souhaitons limiter les coûts de mise en production de ce prototype, donc peux-tu privilégier une solution gratuite Cloud pour le déploiement de l'API de prédiction, par exemple Azure webapp (ASP F1 gratuit), PythonAnywhere, Heroku avec le package “student” de Github ou tout autre solution ?\n",
        "\n",
        "Si le modèle avancé est trop lourd et induit un dépassement des limites de taille des solutions gratuites, tu pourras tester le déploiement avec le modèle classique, ou bien utiliser des techniques de réduction de taille de ton modèle TensorFlow-Keras via une conversion en TensorFlow Lite.\n",
        "\n",
        "Merci d'avance !\n",
        "\n",
        "*Marc*\n",
        "\n",
        "PS : Ah au fait, tant que tu y es, tu pourras rédiger un petit article pour le blog à partir de ton travail de modélisation et de ta démarche orientée MLOps ?\n",
        "\n",
        "---\n",
        "\n",
        "Vous avez pris connaissance du mail, vous avez hâte de démarrer ce nouveau projet avec intérêt ! C'est parti !"
      ],
      "metadata": {
        "id": "K6FG_X1nMQwe"
      }
    },
    {
      "cell_type": "markdown",
      "source": [
        "# Initialisation : chargement des bibliothèques Python et des fonctions globales"
      ],
      "metadata": {
        "id": "4uVmZXG_FJQ9"
      }
    },
    {
      "cell_type": "code",
      "source": [
        "from google.colab import drive\n",
        "import pandas\n",
        "import numpy\n",
        "from sklearn.model_selection import train_test_split\n",
        "import matplotlib.pyplot\n",
        "import seaborn\n",
        "import nltk\n",
        "from collections import Counter\n",
        "from nltk.corpus import stopwords\n",
        "from nltk.stem import WordNetLemmatizer, PorterStemmer"
      ],
      "metadata": {
        "id": "9iwJ-KHcFjC9"
      },
      "execution_count": 24,
      "outputs": []
    },
    {
      "cell_type": "code",
      "source": [
        "#############################################\n",
        "## DATAFRAME MAIN INFORMATIONS AT A GLANCE ##\n",
        "#############################################\n",
        "def _visualisationDataset(_inputDataframe, _pourcentageRemplissageTarget, _legendesGraph=\"No\"):\n",
        "    nbDonneesPresentesGlobal = 0\n",
        "    tailleDataframe = _inputDataframe.shape[0]\n",
        "    for index in _inputDataframe.columns:\n",
        "        nbIndividus = _inputDataframe[index].notna().sum()\n",
        "        nbNaN = _inputDataframe[index].isna().sum()\n",
        "        typeDonnee = _inputDataframe[index].dtype\n",
        "        pourcentageRemplissage = round((nbIndividus / tailleDataframe) * 100, 2)\n",
        "\n",
        "        if (pourcentageRemplissage >= _pourcentageRemplissageTarget):\n",
        "            ligne = f\"[>\\033[32m{_pourcentageRemplissageTarget}%\\033[0m] \"\n",
        "            ligne += f\"Variable : \\033[1m\\033[3m{index:<50}\\033[0m\"\n",
        "            ligne += f\"Remplissage : \\033[32m\\033[1m{str(pourcentageRemplissage).rjust(5)} %\\033[0m\"\n",
        "        else:\n",
        "            ligne = f\"[<\\033[31m{_pourcentageRemplissageTarget}%\\033[0m] \"\n",
        "            ligne += f\"Variable : \\033[1m\\033[3m{index:<50}\\033[0m\"\n",
        "            ligne += f\"Remplissage : \\033[31m\\033[1m{str(pourcentageRemplissage).rjust(5)} %\\033[0m\"\n",
        "        ligne += f\" (\\033[3m{str(nbIndividus).rjust(5)}\\033[0m individus/\\033[3m{tailleDataframe}\\033[0m)\"\n",
        "        ligne += f\"\\tNaN : \\033[1m{str(nbNaN).rjust(5)}\\033[0m\"\n",
        "        ligne += f\"\\tType : \\033[3m{str(typeDonnee):<5}\\033[0m\"\n",
        "        if (typeDonnee == \"object\"):\n",
        "            nbUniques = _inputDataframe[index].nunique()\n",
        "            ligne += f\"\\t(Individus uniques : \\033[1m{nbUniques}\\033[0m)\"\n",
        "        elif (typeDonnee == \"bool\"):\n",
        "            ligne += f\"\\t(\\\"0\\\" vs. \\\"1\\\" = \\033[1m{_inputDataframe[index].value_counts().get(True, 0)}\\033[0m vs. \\033[1m{_inputDataframe[index].value_counts().get(False, 0)}\\033[0m)\"\n",
        "        elif (typeDonnee == \"datetime64[ns]\"):\n",
        "            ligne += f\" -- TIME STAMP !\"\n",
        "        else:\n",
        "            min = round(_inputDataframe[index].min(), 2)\n",
        "            max = round(_inputDataframe[index].max(), 2)\n",
        "            moyenne = round(_inputDataframe[index].mean(), 2)\n",
        "            ligne += f\"\\t(Min = \\033[1m{min:<5}\\033[0m Max = \\033[1m{max:<5}\\033[0m Moyenne = \\033[1m{moyenne}\\033[0m)\"\n",
        "        print(ligne)\n",
        "        nbDonneesPresentesGlobal = nbDonneesPresentesGlobal + nbIndividus\n",
        "\n",
        "    print(\"\\nAu global \", nbDonneesPresentesGlobal, \" données sont présentes, sur un total de \", _inputDataframe.shape[0]*_inputDataframe.shape[1], \", soit un remplissage de \", round( ((nbDonneesPresentesGlobal*100)/(_inputDataframe.shape[0]*_inputDataframe.shape[1])), 2),\"%\", sep=\"\")\n",
        "    print(_inputDataframe.dropna().shape[0], \" individus ne comptent aucun \\\"NaN\\\"\", sep=\"\")\n",
        "    print(\"Taille du dataset : \", _inputDataframe.shape[0], \" individus, et \", _inputDataframe.shape[1], \" variables\\n\\n\", sep=\"\")\n",
        "\n",
        "    dataframeRepartitionTest = _inputDataframe.count()*100/_inputDataframe.shape[0]\n",
        "    matplotlib.pyplot.figure(figsize=(20, 5))\n",
        "    matplotlib.pyplot.title(\"Représentation graphique de répartition du contenu du dataset\")\n",
        "    matplotlib.pyplot.xlabel(\"Variables\")\n",
        "    matplotlib.pyplot.ylabel(\"Pourcentage de remplissage\")\n",
        "    matplotlib.pyplot.bar(dataframeRepartitionTest.index, dataframeRepartitionTest.values, color=\"skyblue\", edgecolor=\"black\")\n",
        "    matplotlib.pyplot.axhline(y=25, color=\"yellow\", linestyle=\"--\", linewidth=2)\n",
        "    matplotlib.pyplot.axhline(y=33, color=\"orange\", linestyle=\"--\", linewidth=2)\n",
        "    matplotlib.pyplot.axhline(y=50, color=\"red\", linestyle=\"-\", linewidth=2)\n",
        "    matplotlib.pyplot.axhline(y=66, color=\"orange\", linestyle=\"--\", linewidth=2)\n",
        "    matplotlib.pyplot.axhline(y=75, color=\"yellow\", linestyle=\"--\", linewidth=2)\n",
        "    if (_legendesGraph == \"No\"):\n",
        "        matplotlib.pyplot.xticks([])\n",
        "    else:\n",
        "        matplotlib.pyplot.xticks(rotation=80)\n",
        "        matplotlib.pyplot.xlim(-0.5, _inputDataframe.shape[1] - 0.5)\n",
        "        matplotlib.pyplot.show()\n",
        "\n",
        "#Rouge        : \\033[31m\n",
        "#Vert         : \\033[32m\n",
        "#Jaune        : \\033[33m\n",
        "#Bleu         : \\033[34m\n",
        "#Cyan         : \\033[36m\n",
        "#Gras         : \\033[1m\n",
        "#Italique     : \\033[3m\n",
        "#Réinit style : \\033[0m\n",
        "\n",
        "\n",
        "#Fonction de nettoyage de texte : 1)Passage en minuscule / 2)Tokenisation / 3)Suppression des tokens de moins de X caractères / 4)Suppression des tokens trouvés plus de X fois / 5)Suppression des StopWords NLTK / 6) Lemmatisation ou Racinisation (ou rien du tout)\n",
        "#\n",
        "#INPUT :\n",
        "########\n",
        "#    _inputDataframe                      : dataframe Pandas source\n",
        "#    _inputFeaturesNames                  : Nom de la variable contenant des données textuelles à traiter\n",
        "#    _inputDropTokenIfLessThanXChars      : Nombre de caractère minimum pour un token (tous les tokens de moins de \"_inputDropTokenIfLessThanXChars\" caractères, seront supprimés)\n",
        "#                                                                               Si \"_inputDropTokenIfLessThanXChars\" = 0 --> On passe\n",
        "#    _inputDropTokenIfFoundMoreThanXTimes : Nombre d'occurence maximum d'un token (tous les tokens présents plus de \"_inputDropTokenIfFoundMoreThanXTimes\" fois, seront supprimés)\n",
        "#                                                                               Si \"_inputDropTokenIfFoundMoreThanXTimes\" = 0 --> On passe\n",
        "#    _inputLanguage                       : Langue dans laquelle on va télécharger le StopWords NLTK les plus courants\n",
        "#    _inputLemmatizationOrStemmingChoice  : Choix du traitement des tokens : soit on procède à une \"Lemmatisation\" (_inputLemmatizationOrStemmingChoice=\"LEM\"),\n",
        "#                                                                            soit à une \"Racinisation\" (_inputLemmatizationOrStemmingChoice=\"STEM\"),\n",
        "#                                                                            soit ne RIEN FAIRE de plus (_inputLemmatizationOrStemmingChoice=\"NONE\")\n",
        "#\n",
        "#OUTPUT :\n",
        "#########\n",
        "#    Les tokens (qui ont été traités)\n",
        "#\n",
        "def _textCleaning(_inputDataframe, _inputFeaturesNames, _inputDropTokenIfLessThanXChars=0, _inputDropTokenIfFoundMoreThanXTimes=0, _inputLanguage=\"english\", _inputLemmatizationOrStemmingChoice=\"NONE\"):\n",
        "    #On va créer une copie pour ne pas modifier le DataFrame original\n",
        "    tempDataframe = _inputDataframe.copy()\n",
        "\n",
        "    #1ère étape : on passe tous les caractères en minuscules et on vire les caractères spéciaux !\n",
        "    tempDataframe[\"tokens\"] = tempDataframe[_inputFeaturesNames].astype(str).str.lower().fillna(\"\")\n",
        "    tempDataframe[\"tokens\"] = tempDataframe[\"tokens\"].str.replace(\"-\", \" \").str.replace(\"+\", \" \").str.replace(\"/\", \" \").str.replace(\"#\", \" \").str.replace(\"_\", \" \").str.replace(\"&\", \" \").str.replace(\"(\", \" \").str.replace(\")\", \" \").str.replace(\"@\", \" \")\n",
        "\n",
        "    #2ème étape : on ne garde que les mots constitués de caracètres alphabétiques (Tokenisation)\n",
        "    tokenizer = nltk.RegexpTokenizer(r\"[^\\W\\d_]+\")\n",
        "    tempDataframe[\"tokens\"] = tempDataframe[\"tokens\"].apply(tokenizer.tokenize)\n",
        "\n",
        "    #3ème étape : on vire les tokens de moins de \"_inputDropTokenIfLessThanXChars\" caractères\n",
        "    if(_inputDropTokenIfLessThanXChars != 0):\n",
        "        tempDataframe[\"tokens\"] = tempDataframe[\"tokens\"].apply(lambda tokens: [token for token in tokens if len(token) >= _inputDropTokenIfLessThanXChars])\n",
        "    else:\n",
        "        pass\n",
        "\n",
        "    #4ème étape : on virer les X tokens les plus fréquents\n",
        "    if(_inputDropTokenIfFoundMoreThanXTimes != 0):\n",
        "      #On met à plat toutes les listes de tokens en une seule grande liste\n",
        "      flattenTokens = [token for sublist in tempDataframe[\"tokens\"] for token in sublist]\n",
        "      #On compte les occurrences de chaque token\n",
        "      numberOfTokens = Counter(flattenTokens)\n",
        "      #On filtrer les tokens qui apparaissent X fois ou plus\n",
        "      filteredTokensList = [item for item in numberOfTokens.most_common() if item[1] >= _inputDropTokenIfFoundMoreThanXTimes]\n",
        "      mostCommonTokens = Counter(dict(filteredTokensList))\n",
        "      #DEBUG - DECOMMENTER CETTE LIGNE POUR AFFICHER LA LISTE DES TOKENS LES PLUS COURANTS\n",
        "      #display(mostCommonTokens)\n",
        "      #On converti les clés des tokens les plus courants en un ensemble\n",
        "      stopWords = set(mostCommonTokens.keys())\n",
        "      #On applique la suppression des StopWords à chaque liste de tokens dans la variable \"tokens\"\n",
        "      tempDataframe[\"tokens\"] = tempDataframe[\"tokens\"].apply(lambda tokens: [token for token in tokens if token not in stopWords])\n",
        "    else:\n",
        "        pass\n",
        "\n",
        "    #5ème étape : on télécharge les StopWords NLTK les plus courants de la langue \"_inputLanguage\"\n",
        "    nltk.download(\"stopwords\")\n",
        "    stopWords = set(stopwords.words(_inputLanguage))\n",
        "    #On applique la suppression des StopWords à chaque liste de tokens dans la variable \"tokens\"\n",
        "    tempDataframe[\"tokens\"] = tempDataframe[\"tokens\"].apply(lambda tokens: [token for token in tokens if token not in stopWords])\n",
        "\n",
        "    #6ème étape : on lemmatise (\"LEM\") ou on racinise (\"STEM\") les tokens\n",
        "    nltk.download(\"wordnet\")\n",
        "    if(str(_inputLemmatizationOrStemmingChoice).lower() == \"lem\"):\n",
        "        print(\"***Lemmatization***\")\n",
        "        lemmatizer = WordNetLemmatizer()\n",
        "        tempDataframe[\"tokens\"] = tempDataframe[\"tokens\"].apply(lambda tokens: [lemmatizer.lemmatize(token) for token in tokens])\n",
        "    elif(str(_inputLemmatizationOrStemmingChoice).lower() == \"stem\"):\n",
        "        print(\"***Stemming***\")\n",
        "        stemmer = PorterStemmer()\n",
        "        tempDataframe[\"tokens\"] = tempDataframe[\"tokens\"].apply(lambda tokens: [stemmer.stem(token) for token in tokens])\n",
        "    else:\n",
        "        pass\n",
        "\n",
        "    #Display post-cleaning informations\n",
        "    flattenTokensList = [token for sublist in tempDataframe[\"tokens\"] for token in sublist]\n",
        "    print(\"Nombre total de tokens\\t\\t:\", len(flattenTokensList))\n",
        "    print(\"Nombre de tokens uniques\\t:\", len(Counter(flattenTokensList)))\n",
        "\n",
        "    return tempDataframe[\"tokens\"]"
      ],
      "metadata": {
        "id": "a0Tpg7wyGCNi"
      },
      "execution_count": null,
      "outputs": []
    },
    {
      "cell_type": "markdown",
      "source": [
        "# Partie 1 : installation du pipeline"
      ],
      "metadata": {
        "id": "09wj6zAlDXMk"
      }
    },
    {
      "cell_type": "markdown",
      "source": [
        "On part du principe qu'on va utiliser Google Colab pour le développement, tout en liant le compte avec GitHub, dans lequel on a créé un repository public nommé [\"Projet_7-Air_Paradis-PUBLIC\"](https://github.com/Jojo31100/Projet_7-Air_Paradis-PUBLIC)\n"
      ],
      "metadata": {
        "id": "t87UePLOEO0l"
      }
    },
    {
      "cell_type": "markdown",
      "source": [
        "## 1.1. MLflow"
      ],
      "metadata": {
        "id": "CELnOdImDcwC"
      }
    },
    {
      "cell_type": "code",
      "source": [
        "#Installation de MLFlow pour suivre la totalité des modèles (temps d'entrainement, d'inférence, résultats, meilleurs paramètres, ...)\n",
        "!pip install mlflow\n",
        "import mlflow"
      ],
      "metadata": {
        "colab": {
          "base_uri": "https://localhost:8080/"
        },
        "id": "9TqQpsqNDh23",
        "outputId": "b5439d2a-87e8-42c0-99a7-c651dfd707ed"
      },
      "execution_count": 18,
      "outputs": [
        {
          "output_type": "stream",
          "name": "stdout",
          "text": [
            "Requirement already satisfied: mlflow in /usr/local/lib/python3.11/dist-packages (3.1.4)\n",
            "Requirement already satisfied: mlflow-skinny==3.1.4 in /usr/local/lib/python3.11/dist-packages (from mlflow) (3.1.4)\n",
            "Requirement already satisfied: Flask<4 in /usr/local/lib/python3.11/dist-packages (from mlflow) (3.1.1)\n",
            "Requirement already satisfied: alembic!=1.10.0,<2 in /usr/local/lib/python3.11/dist-packages (from mlflow) (1.16.4)\n",
            "Requirement already satisfied: docker<8,>=4.0.0 in /usr/local/lib/python3.11/dist-packages (from mlflow) (7.1.0)\n",
            "Requirement already satisfied: graphene<4 in /usr/local/lib/python3.11/dist-packages (from mlflow) (3.4.3)\n",
            "Requirement already satisfied: gunicorn<24 in /usr/local/lib/python3.11/dist-packages (from mlflow) (23.0.0)\n",
            "Requirement already satisfied: matplotlib<4 in /usr/local/lib/python3.11/dist-packages (from mlflow) (3.10.0)\n",
            "Requirement already satisfied: numpy<3 in /usr/local/lib/python3.11/dist-packages (from mlflow) (2.0.2)\n",
            "Requirement already satisfied: pandas<3 in /usr/local/lib/python3.11/dist-packages (from mlflow) (2.2.2)\n",
            "Requirement already satisfied: pyarrow<21,>=4.0.0 in /usr/local/lib/python3.11/dist-packages (from mlflow) (18.1.0)\n",
            "Requirement already satisfied: scikit-learn<2 in /usr/local/lib/python3.11/dist-packages (from mlflow) (1.6.1)\n",
            "Requirement already satisfied: scipy<2 in /usr/local/lib/python3.11/dist-packages (from mlflow) (1.16.0)\n",
            "Requirement already satisfied: sqlalchemy<3,>=1.4.0 in /usr/local/lib/python3.11/dist-packages (from mlflow) (2.0.41)\n",
            "Requirement already satisfied: cachetools<7,>=5.0.0 in /usr/local/lib/python3.11/dist-packages (from mlflow-skinny==3.1.4->mlflow) (5.5.2)\n",
            "Requirement already satisfied: click<9,>=7.0 in /usr/local/lib/python3.11/dist-packages (from mlflow-skinny==3.1.4->mlflow) (8.2.1)\n",
            "Requirement already satisfied: cloudpickle<4 in /usr/local/lib/python3.11/dist-packages (from mlflow-skinny==3.1.4->mlflow) (3.1.1)\n",
            "Requirement already satisfied: databricks-sdk<1,>=0.20.0 in /usr/local/lib/python3.11/dist-packages (from mlflow-skinny==3.1.4->mlflow) (0.59.0)\n",
            "Requirement already satisfied: fastapi<1 in /usr/local/lib/python3.11/dist-packages (from mlflow-skinny==3.1.4->mlflow) (0.116.1)\n",
            "Requirement already satisfied: gitpython<4,>=3.1.9 in /usr/local/lib/python3.11/dist-packages (from mlflow-skinny==3.1.4->mlflow) (3.1.44)\n",
            "Requirement already satisfied: importlib_metadata!=4.7.0,<9,>=3.7.0 in /usr/local/lib/python3.11/dist-packages (from mlflow-skinny==3.1.4->mlflow) (8.7.0)\n",
            "Requirement already satisfied: opentelemetry-api<3,>=1.9.0 in /usr/local/lib/python3.11/dist-packages (from mlflow-skinny==3.1.4->mlflow) (1.35.0)\n",
            "Requirement already satisfied: opentelemetry-sdk<3,>=1.9.0 in /usr/local/lib/python3.11/dist-packages (from mlflow-skinny==3.1.4->mlflow) (1.35.0)\n",
            "Requirement already satisfied: packaging<26 in /usr/local/lib/python3.11/dist-packages (from mlflow-skinny==3.1.4->mlflow) (25.0)\n",
            "Requirement already satisfied: protobuf<7,>=3.12.0 in /usr/local/lib/python3.11/dist-packages (from mlflow-skinny==3.1.4->mlflow) (5.29.5)\n",
            "Requirement already satisfied: pydantic<3,>=1.10.8 in /usr/local/lib/python3.11/dist-packages (from mlflow-skinny==3.1.4->mlflow) (2.11.7)\n",
            "Requirement already satisfied: pyyaml<7,>=5.1 in /usr/local/lib/python3.11/dist-packages (from mlflow-skinny==3.1.4->mlflow) (6.0.2)\n",
            "Requirement already satisfied: requests<3,>=2.17.3 in /usr/local/lib/python3.11/dist-packages (from mlflow-skinny==3.1.4->mlflow) (2.32.3)\n",
            "Requirement already satisfied: sqlparse<1,>=0.4.0 in /usr/local/lib/python3.11/dist-packages (from mlflow-skinny==3.1.4->mlflow) (0.5.3)\n",
            "Requirement already satisfied: typing-extensions<5,>=4.0.0 in /usr/local/lib/python3.11/dist-packages (from mlflow-skinny==3.1.4->mlflow) (4.14.1)\n",
            "Requirement already satisfied: uvicorn<1 in /usr/local/lib/python3.11/dist-packages (from mlflow-skinny==3.1.4->mlflow) (0.35.0)\n",
            "Requirement already satisfied: Mako in /usr/lib/python3/dist-packages (from alembic!=1.10.0,<2->mlflow) (1.1.3)\n",
            "Requirement already satisfied: urllib3>=1.26.0 in /usr/local/lib/python3.11/dist-packages (from docker<8,>=4.0.0->mlflow) (2.5.0)\n",
            "Requirement already satisfied: blinker>=1.9.0 in /usr/local/lib/python3.11/dist-packages (from Flask<4->mlflow) (1.9.0)\n",
            "Requirement already satisfied: itsdangerous>=2.2.0 in /usr/local/lib/python3.11/dist-packages (from Flask<4->mlflow) (2.2.0)\n",
            "Requirement already satisfied: jinja2>=3.1.2 in /usr/local/lib/python3.11/dist-packages (from Flask<4->mlflow) (3.1.6)\n",
            "Requirement already satisfied: markupsafe>=2.1.1 in /usr/local/lib/python3.11/dist-packages (from Flask<4->mlflow) (3.0.2)\n",
            "Requirement already satisfied: werkzeug>=3.1.0 in /usr/local/lib/python3.11/dist-packages (from Flask<4->mlflow) (3.1.3)\n",
            "Requirement already satisfied: graphql-core<3.3,>=3.1 in /usr/local/lib/python3.11/dist-packages (from graphene<4->mlflow) (3.2.6)\n",
            "Requirement already satisfied: graphql-relay<3.3,>=3.1 in /usr/local/lib/python3.11/dist-packages (from graphene<4->mlflow) (3.2.0)\n",
            "Requirement already satisfied: python-dateutil<3,>=2.7.0 in /usr/local/lib/python3.11/dist-packages (from graphene<4->mlflow) (2.9.0.post0)\n",
            "Requirement already satisfied: contourpy>=1.0.1 in /usr/local/lib/python3.11/dist-packages (from matplotlib<4->mlflow) (1.3.2)\n",
            "Requirement already satisfied: cycler>=0.10 in /usr/local/lib/python3.11/dist-packages (from matplotlib<4->mlflow) (0.12.1)\n",
            "Requirement already satisfied: fonttools>=4.22.0 in /usr/local/lib/python3.11/dist-packages (from matplotlib<4->mlflow) (4.59.0)\n",
            "Requirement already satisfied: kiwisolver>=1.3.1 in /usr/local/lib/python3.11/dist-packages (from matplotlib<4->mlflow) (1.4.8)\n",
            "Requirement already satisfied: pillow>=8 in /usr/local/lib/python3.11/dist-packages (from matplotlib<4->mlflow) (11.3.0)\n",
            "Requirement already satisfied: pyparsing>=2.3.1 in /usr/local/lib/python3.11/dist-packages (from matplotlib<4->mlflow) (3.2.3)\n",
            "Requirement already satisfied: pytz>=2020.1 in /usr/local/lib/python3.11/dist-packages (from pandas<3->mlflow) (2025.2)\n",
            "Requirement already satisfied: tzdata>=2022.7 in /usr/local/lib/python3.11/dist-packages (from pandas<3->mlflow) (2025.2)\n",
            "Requirement already satisfied: joblib>=1.2.0 in /usr/local/lib/python3.11/dist-packages (from scikit-learn<2->mlflow) (1.5.1)\n",
            "Requirement already satisfied: threadpoolctl>=3.1.0 in /usr/local/lib/python3.11/dist-packages (from scikit-learn<2->mlflow) (3.6.0)\n",
            "Requirement already satisfied: greenlet>=1 in /usr/local/lib/python3.11/dist-packages (from sqlalchemy<3,>=1.4.0->mlflow) (3.2.3)\n",
            "Requirement already satisfied: google-auth~=2.0 in /usr/local/lib/python3.11/dist-packages (from databricks-sdk<1,>=0.20.0->mlflow-skinny==3.1.4->mlflow) (2.38.0)\n",
            "Requirement already satisfied: starlette<0.48.0,>=0.40.0 in /usr/local/lib/python3.11/dist-packages (from fastapi<1->mlflow-skinny==3.1.4->mlflow) (0.47.1)\n",
            "Requirement already satisfied: gitdb<5,>=4.0.1 in /usr/local/lib/python3.11/dist-packages (from gitpython<4,>=3.1.9->mlflow-skinny==3.1.4->mlflow) (4.0.12)\n",
            "Requirement already satisfied: zipp>=3.20 in /usr/local/lib/python3.11/dist-packages (from importlib_metadata!=4.7.0,<9,>=3.7.0->mlflow-skinny==3.1.4->mlflow) (3.23.0)\n",
            "Requirement already satisfied: opentelemetry-semantic-conventions==0.56b0 in /usr/local/lib/python3.11/dist-packages (from opentelemetry-sdk<3,>=1.9.0->mlflow-skinny==3.1.4->mlflow) (0.56b0)\n",
            "Requirement already satisfied: annotated-types>=0.6.0 in /usr/local/lib/python3.11/dist-packages (from pydantic<3,>=1.10.8->mlflow-skinny==3.1.4->mlflow) (0.7.0)\n",
            "Requirement already satisfied: pydantic-core==2.33.2 in /usr/local/lib/python3.11/dist-packages (from pydantic<3,>=1.10.8->mlflow-skinny==3.1.4->mlflow) (2.33.2)\n",
            "Requirement already satisfied: typing-inspection>=0.4.0 in /usr/local/lib/python3.11/dist-packages (from pydantic<3,>=1.10.8->mlflow-skinny==3.1.4->mlflow) (0.4.1)\n",
            "Requirement already satisfied: six>=1.5 in /usr/local/lib/python3.11/dist-packages (from python-dateutil<3,>=2.7.0->graphene<4->mlflow) (1.17.0)\n",
            "Requirement already satisfied: charset-normalizer<4,>=2 in /usr/local/lib/python3.11/dist-packages (from requests<3,>=2.17.3->mlflow-skinny==3.1.4->mlflow) (3.4.2)\n",
            "Requirement already satisfied: idna<4,>=2.5 in /usr/local/lib/python3.11/dist-packages (from requests<3,>=2.17.3->mlflow-skinny==3.1.4->mlflow) (3.10)\n",
            "Requirement already satisfied: certifi>=2017.4.17 in /usr/local/lib/python3.11/dist-packages (from requests<3,>=2.17.3->mlflow-skinny==3.1.4->mlflow) (2025.7.14)\n",
            "Requirement already satisfied: h11>=0.8 in /usr/local/lib/python3.11/dist-packages (from uvicorn<1->mlflow-skinny==3.1.4->mlflow) (0.16.0)\n",
            "Requirement already satisfied: smmap<6,>=3.0.1 in /usr/local/lib/python3.11/dist-packages (from gitdb<5,>=4.0.1->gitpython<4,>=3.1.9->mlflow-skinny==3.1.4->mlflow) (5.0.2)\n",
            "Requirement already satisfied: pyasn1-modules>=0.2.1 in /usr/local/lib/python3.11/dist-packages (from google-auth~=2.0->databricks-sdk<1,>=0.20.0->mlflow-skinny==3.1.4->mlflow) (0.4.2)\n",
            "Requirement already satisfied: rsa<5,>=3.1.4 in /usr/local/lib/python3.11/dist-packages (from google-auth~=2.0->databricks-sdk<1,>=0.20.0->mlflow-skinny==3.1.4->mlflow) (4.9.1)\n",
            "Requirement already satisfied: anyio<5,>=3.6.2 in /usr/local/lib/python3.11/dist-packages (from starlette<0.48.0,>=0.40.0->fastapi<1->mlflow-skinny==3.1.4->mlflow) (4.9.0)\n",
            "Requirement already satisfied: sniffio>=1.1 in /usr/local/lib/python3.11/dist-packages (from anyio<5,>=3.6.2->starlette<0.48.0,>=0.40.0->fastapi<1->mlflow-skinny==3.1.4->mlflow) (1.3.1)\n",
            "Requirement already satisfied: pyasn1<0.7.0,>=0.6.1 in /usr/local/lib/python3.11/dist-packages (from pyasn1-modules>=0.2.1->google-auth~=2.0->databricks-sdk<1,>=0.20.0->mlflow-skinny==3.1.4->mlflow) (0.6.1)\n"
          ]
        }
      ]
    },
    {
      "cell_type": "markdown",
      "source": [
        "## 1.2. ngrok"
      ],
      "metadata": {
        "id": "IMcFG4l4Xt6J"
      }
    },
    {
      "cell_type": "code",
      "source": [
        "#Installation de ngrok pour accéder à MLflow UI depuis Google Colab\n",
        "!pip install pyngrok\n",
        "from pyngrok import ngrok\n",
        "\n",
        "#Ferme toutes les instances précédentes de NGrok\n",
        "ngrok.kill()\n",
        "\n",
        "#Paramétrage du token\n",
        "ngrokAuthToken = \"30GdRuK989WiPWr5DbDm7Zv23eF_7j5moxUiutbaNa85GnjUP\"\n",
        "ngrok.set_auth_token(ngrokAuthToken)\n",
        "\n",
        "#On créé un nouveau tunnel sur le port 5000\n",
        "ngrokTunnel = ngrok.connect(addr=\"5000\", proto=\"http\", bind_tls=True)\n",
        "print(\"\\n\\nPour accéder à l'UI de MLflow, cliquer ici - attendez juste quelques secondes, le temps que la UI se lance ! ;) :\", ngrokTunnel.public_url, \"\\n\\n\")\n",
        "\n",
        "#On démarre la UI\n",
        "!mlflow ui"
      ],
      "metadata": {
        "colab": {
          "base_uri": "https://localhost:8080/"
        },
        "id": "8SjITG7PXyZV",
        "outputId": "f7aa349d-8001-40cf-b75b-3bdb780fa71a"
      },
      "execution_count": 23,
      "outputs": [
        {
          "output_type": "stream",
          "name": "stdout",
          "text": [
            "Requirement already satisfied: pyngrok in /usr/local/lib/python3.11/dist-packages (7.2.12)\n",
            "Requirement already satisfied: PyYAML>=5.1 in /usr/local/lib/python3.11/dist-packages (from pyngrok) (6.0.2)\n",
            "MLflow UI disponible ici : https://27ab752b8227.ngrok-free.app\n",
            "[2025-07-23 08:34:18 +0000] [21504] [INFO] Starting gunicorn 23.0.0\n",
            "[2025-07-23 08:34:18 +0000] [21504] [INFO] Listening at: http://127.0.0.1:5000 (21504)\n",
            "[2025-07-23 08:34:18 +0000] [21504] [INFO] Using worker: sync\n",
            "[2025-07-23 08:34:18 +0000] [21505] [INFO] Booting worker with pid: 21505\n",
            "[2025-07-23 08:34:18 +0000] [21506] [INFO] Booting worker with pid: 21506\n",
            "[2025-07-23 08:34:18 +0000] [21507] [INFO] Booting worker with pid: 21507\n",
            "[2025-07-23 08:34:18 +0000] [21508] [INFO] Booting worker with pid: 21508\n",
            "[2025-07-23 08:57:38 +0000] [21504] [INFO] Handling signal: int\n",
            "[2025-07-23 08:57:38 +0000] [21507] [INFO] Worker exiting (pid: 21507)\n",
            "[2025-07-23 08:57:38 +0000] [21506] [INFO] Worker exiting (pid: 21506)\n",
            "[2025-07-23 08:57:38 +0000] [21508] [INFO] Worker exiting (pid: 21508)\n",
            "[2025-07-23 08:57:38 +0000] [21505] [INFO] Worker exiting (pid: 21505)\n",
            "\n",
            "Aborted!\n",
            "[2025-07-23 08:57:40 +0000] [21504] [INFO] Shutting down: Master\n"
          ]
        }
      ]
    },
    {
      "cell_type": "markdown",
      "source": [
        "# Partie 2 : Analyse Exploratoire des Données"
      ],
      "metadata": {
        "id": "YkADdhdgGi7U"
      }
    },
    {
      "cell_type": "code",
      "source": [
        "#Loading data\n",
        "drive.mount(\"/content/drive/\")\n",
        "\n",
        "#Comme le dataset fourni ne contient pas la 1ère ligne avec les noms des variables, on va préparer le dataframe Pandas manuellement, en les rajoutants\n",
        "nomsVariables = [\"target\", \"ids\", \"date\", \"flag\", \"user\", \"text\"] #Informations trouvées ici : https://www.kaggle.com/datasets/kazanova/sentiment140\n",
        "\n",
        "#On charge nos données\n",
        "dataframe = pandas.read_csv(\"/content/drive/My Drive/Colab_Notebooks/Project_7/dataset/training.1600000.processed.noemoticon.csv\", encoding=\"latin-1\", header=None, names=nomsVariables)\n",
        "dataframe.shape"
      ],
      "metadata": {
        "colab": {
          "base_uri": "https://localhost:8080/"
        },
        "id": "5gsu2sqoGt4c",
        "outputId": "3e700586-2afe-4847-c493-f86c7c274652"
      },
      "execution_count": null,
      "outputs": [
        {
          "output_type": "stream",
          "name": "stdout",
          "text": [
            "Drive already mounted at /content/drive/; to attempt to forcibly remount, call drive.mount(\"/content/drive/\", force_remount=True).\n"
          ]
        },
        {
          "output_type": "execute_result",
          "data": {
            "text/plain": [
              "(1600000, 6)"
            ]
          },
          "metadata": {},
          "execution_count": 14
        }
      ]
    },
    {
      "cell_type": "code",
      "source": [
        "_visualisationDataset(dataframe, 100, \"Yes\")"
      ],
      "metadata": {
        "colab": {
          "base_uri": "https://localhost:8080/",
          "height": 733
        },
        "id": "pQxTzeSJHM7y",
        "outputId": "d0670545-e701-4ae8-d606-cf46c61423b4"
      },
      "execution_count": null,
      "outputs": [
        {
          "output_type": "stream",
          "name": "stdout",
          "text": [
            "[>\u001b[32m100%\u001b[0m] Variable : \u001b[1m\u001b[3mtarget                                            \u001b[0mRemplissage : \u001b[32m\u001b[1m100.0 %\u001b[0m (\u001b[3m1600000\u001b[0m individus/\u001b[3m1600000\u001b[0m)\tNaN : \u001b[1m    0\u001b[0m\tType : \u001b[3mint64\u001b[0m\t(Min = \u001b[1m0    \u001b[0m Max = \u001b[1m4    \u001b[0m Moyenne = \u001b[1m2.0\u001b[0m)\n",
            "[>\u001b[32m100%\u001b[0m] Variable : \u001b[1m\u001b[3mids                                               \u001b[0mRemplissage : \u001b[32m\u001b[1m100.0 %\u001b[0m (\u001b[3m1600000\u001b[0m individus/\u001b[3m1600000\u001b[0m)\tNaN : \u001b[1m    0\u001b[0m\tType : \u001b[3mint64\u001b[0m\t(Min = \u001b[1m1467810369\u001b[0m Max = \u001b[1m2329205794\u001b[0m Moyenne = \u001b[1m1998817552.3\u001b[0m)\n",
            "[>\u001b[32m100%\u001b[0m] Variable : \u001b[1m\u001b[3mdate                                              \u001b[0mRemplissage : \u001b[32m\u001b[1m100.0 %\u001b[0m (\u001b[3m1600000\u001b[0m individus/\u001b[3m1600000\u001b[0m)\tNaN : \u001b[1m    0\u001b[0m\tType : \u001b[3mobject\u001b[0m\t(Individus uniques : \u001b[1m774363\u001b[0m)\n",
            "[>\u001b[32m100%\u001b[0m] Variable : \u001b[1m\u001b[3mflag                                              \u001b[0mRemplissage : \u001b[32m\u001b[1m100.0 %\u001b[0m (\u001b[3m1600000\u001b[0m individus/\u001b[3m1600000\u001b[0m)\tNaN : \u001b[1m    0\u001b[0m\tType : \u001b[3mobject\u001b[0m\t(Individus uniques : \u001b[1m1\u001b[0m)\n",
            "[>\u001b[32m100%\u001b[0m] Variable : \u001b[1m\u001b[3muser                                              \u001b[0mRemplissage : \u001b[32m\u001b[1m100.0 %\u001b[0m (\u001b[3m1600000\u001b[0m individus/\u001b[3m1600000\u001b[0m)\tNaN : \u001b[1m    0\u001b[0m\tType : \u001b[3mobject\u001b[0m\t(Individus uniques : \u001b[1m659775\u001b[0m)\n",
            "[>\u001b[32m100%\u001b[0m] Variable : \u001b[1m\u001b[3mtext                                              \u001b[0mRemplissage : \u001b[32m\u001b[1m100.0 %\u001b[0m (\u001b[3m1600000\u001b[0m individus/\u001b[3m1600000\u001b[0m)\tNaN : \u001b[1m    0\u001b[0m\tType : \u001b[3mobject\u001b[0m\t(Individus uniques : \u001b[1m1581466\u001b[0m)\n",
            "\n",
            "Au global 9600000 données sont présentes, sur un total de 9600000, soit un remplissage de 100.0%\n",
            "1600000 individus ne comptent aucun \"NaN\"\n",
            "Taille du dataset : 1600000 individus, et 6 variables\n",
            "\n",
            "\n"
          ]
        },
        {
          "output_type": "display_data",
          "data": {
            "text/plain": [
              "<Figure size 2000x500 with 1 Axes>"
            ],
            "image/png": "[encoded data removed]"
          },
          "metadata": {}
        }
      ]
    },
    {
      "cell_type": "markdown",
      "source": [
        "D'emblée, on constate déjà beaucoup de choses :\n",
        "1. Les variables \"ids\", \"date\", \"flag\", \"user\" ne nous serviront sans doute pas à grand chose...\n",
        "2. La base est énorme :  1,6 millions de tweets\n",
        "3. La variable target semble équilibrée (valeur min=0 / valeur max=4 / moyenne=2 ; Ce qui signifie qu'il y a autant de 0 que de 4 !)\n",
        "4. La variable \"flag\" ne sera, pour sûr, d'absolument AUCUNE utilité (1 seule valeur sur l'ensemble du dataset !)\n",
        "\n",
        "Donc, les variables intéressantes seront :\n",
        "- \"target\" (la target à prédire : 0=Tweet négatif / 4=Tweet positif)\n",
        "- \"text\" (les données d'entraînement/validation/test)"
      ],
      "metadata": {
        "id": "7OKAcCsXLXF6"
      }
    },
    {
      "cell_type": "markdown",
      "source": [
        "# Partie 3 : construction d'un dataset pour l'entrainement, la validation et le test de nos modèles"
      ],
      "metadata": {
        "id": "0eW_LI3hmxs-"
      }
    },
    {
      "cell_type": "markdown",
      "source": [
        "Entraîner la totalité de nos modèles sur les 1,6 millions de tweets paraît chronophage et pas forcément utile.\n",
        "\n",
        "On va donc faire un sous-échantillon (équivalent à 5% du dataset de base), de 8000 tweets.\n",
        "\n",
        "Ce qui devrait être amplement suffisant pour entrainer/valider et tester nos différents modèles (avant de sélectionner le meilleur modèle et de le tester sur l'entièreté du dataset.\n",
        "\n",
        "Il sera important toutefois de procéder à un mélange aléatoire (mais reproductible) des données : la target étant négative sur les 50 premiers pourcents du dataset, et positive sur les 50% restants."
      ],
      "metadata": {
        "id": "Hw2y-sLrnDBf"
      }
    },
    {
      "cell_type": "code",
      "source": [
        "#Sous-échantillonnage de 8000 individus (5% des 1,6 million de Tweets), stratifié sur la variable \"target\"\n",
        "subDataframe, _ = train_test_split(dataframe, train_size=8000, stratify=dataframe[\"target\"], random_state=23011977)"
      ],
      "metadata": {
        "id": "AOKi62xini6n"
      },
      "execution_count": 25,
      "outputs": []
    },
    {
      "cell_type": "code",
      "source": [
        "_visualisationDataset(subDataframe, 100, \"Yes\")"
      ],
      "metadata": {
        "colab": {
          "base_uri": "https://localhost:8080/",
          "height": 733
        },
        "id": "DQi5FtgerHzh",
        "outputId": "c5d33a48-2d11-4bdf-9d21-50c4898a9a74"
      },
      "execution_count": 26,
      "outputs": [
        {
          "output_type": "stream",
          "name": "stdout",
          "text": [
            "[>\u001b[32m100%\u001b[0m] Variable : \u001b[1m\u001b[3mtarget                                            \u001b[0mRemplissage : \u001b[32m\u001b[1m100.0 %\u001b[0m (\u001b[3m 8000\u001b[0m individus/\u001b[3m8000\u001b[0m)\tNaN : \u001b[1m    0\u001b[0m\tType : \u001b[3mint64\u001b[0m\t(Min = \u001b[1m0    \u001b[0m Max = \u001b[1m4    \u001b[0m Moyenne = \u001b[1m2.0\u001b[0m)\n",
            "[>\u001b[32m100%\u001b[0m] Variable : \u001b[1m\u001b[3mids                                               \u001b[0mRemplissage : \u001b[32m\u001b[1m100.0 %\u001b[0m (\u001b[3m 8000\u001b[0m individus/\u001b[3m8000\u001b[0m)\tNaN : \u001b[1m    0\u001b[0m\tType : \u001b[3mint64\u001b[0m\t(Min = \u001b[1m1467811795\u001b[0m Max = \u001b[1m2329147461\u001b[0m Moyenne = \u001b[1m2000871206.78\u001b[0m)\n",
            "[>\u001b[32m100%\u001b[0m] Variable : \u001b[1m\u001b[3mdate                                              \u001b[0mRemplissage : \u001b[32m\u001b[1m100.0 %\u001b[0m (\u001b[3m 8000\u001b[0m individus/\u001b[3m8000\u001b[0m)\tNaN : \u001b[1m    0\u001b[0m\tType : \u001b[3mobject\u001b[0m\t(Individus uniques : \u001b[1m7958\u001b[0m)\n",
            "[>\u001b[32m100%\u001b[0m] Variable : \u001b[1m\u001b[3mflag                                              \u001b[0mRemplissage : \u001b[32m\u001b[1m100.0 %\u001b[0m (\u001b[3m 8000\u001b[0m individus/\u001b[3m8000\u001b[0m)\tNaN : \u001b[1m    0\u001b[0m\tType : \u001b[3mobject\u001b[0m\t(Individus uniques : \u001b[1m1\u001b[0m)\n",
            "[>\u001b[32m100%\u001b[0m] Variable : \u001b[1m\u001b[3muser                                              \u001b[0mRemplissage : \u001b[32m\u001b[1m100.0 %\u001b[0m (\u001b[3m 8000\u001b[0m individus/\u001b[3m8000\u001b[0m)\tNaN : \u001b[1m    0\u001b[0m\tType : \u001b[3mobject\u001b[0m\t(Individus uniques : \u001b[1m7828\u001b[0m)\n",
            "[>\u001b[32m100%\u001b[0m] Variable : \u001b[1m\u001b[3mtext                                              \u001b[0mRemplissage : \u001b[32m\u001b[1m100.0 %\u001b[0m (\u001b[3m 8000\u001b[0m individus/\u001b[3m8000\u001b[0m)\tNaN : \u001b[1m    0\u001b[0m\tType : \u001b[3mobject\u001b[0m\t(Individus uniques : \u001b[1m7998\u001b[0m)\n",
            "\n",
            "Au global 48000 données sont présentes, sur un total de 48000, soit un remplissage de 100.0%\n",
            "8000 individus ne comptent aucun \"NaN\"\n",
            "Taille du dataset : 8000 individus, et 6 variables\n",
            "\n",
            "\n"
          ]
        },
        {
          "output_type": "display_data",
          "data": {
            "text/plain": [
              "<Figure size 2000x500 with 1 Axes>"
            ],
            "image/png": "[encoded data removed]"
          },
          "metadata": {}
        }
      ]
    }
  ]
}